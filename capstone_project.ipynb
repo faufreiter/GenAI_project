{
 "cells": [
  {
   "cell_type": "markdown",
   "id": "713be179-e0af-47b3-9661-bea4a74a3331",
   "metadata": {},
   "source": [
    "# GenAI for Humanists\n",
    "*Capstone project (Felix Aufreiter) - 2024W 136031-1 GenAI for Humanists*\n",
    "\n",
    "## Abstract/Expose\n",
    "\n",
    "**ADD TEXT**"
   ]
  },
  {
   "cell_type": "markdown",
   "id": "e42aaa2a-e233-4c1c-a881-fc5e6eaf7134",
   "metadata": {},
   "source": [
    "## Inicial setup\n",
    "* Step 1: importing OpenAI API-Key\n",
    "* Step 2: importing packages\n",
    "* Step 3: creating a function and test prompt to use **OpenAI API**\n",
    "* "
   ]
  },
  {
   "cell_type": "code",
   "execution_count": 4,
   "id": "80e933f1-7b05-4a9e-a8ec-0e2717029641",
   "metadata": {},
   "outputs": [
    {
     "name": "stdout",
     "output_type": "stream",
     "text": [
      "Requirement already satisfied: openai in c:\\users\\faufr\\anaconda3\\lib\\site-packages (1.55.3)\n",
      "Requirement already satisfied: python-dotenv in c:\\users\\faufr\\anaconda3\\lib\\site-packages (1.0.1)\n",
      "Requirement already satisfied: distro<2,>=1.7.0 in c:\\users\\faufr\\anaconda3\\lib\\site-packages (from openai) (1.9.0)\n",
      "Requirement already satisfied: pydantic<3,>=1.9.0 in c:\\users\\faufr\\anaconda3\\lib\\site-packages (from openai) (2.10.3)\n",
      "Requirement already satisfied: tqdm>4 in c:\\users\\faufr\\anaconda3\\lib\\site-packages (from openai) (4.67.1)\n",
      "Requirement already satisfied: anyio<5,>=3.5.0 in c:\\users\\faufr\\anaconda3\\lib\\site-packages (from openai) (3.5.0)\n",
      "Requirement already satisfied: typing-extensions<5,>=4.11 in c:\\users\\faufr\\anaconda3\\lib\\site-packages (from openai) (4.12.2)\n",
      "Requirement already satisfied: httpx<1,>=0.23.0 in c:\\users\\faufr\\anaconda3\\lib\\site-packages (from openai) (0.27.2)\n",
      "Requirement already satisfied: jiter<1,>=0.4.0 in c:\\users\\faufr\\anaconda3\\lib\\site-packages (from openai) (0.8.0)\n",
      "Requirement already satisfied: sniffio in c:\\users\\faufr\\anaconda3\\lib\\site-packages (from openai) (1.3.1)\n",
      "Requirement already satisfied: idna>=2.8 in c:\\users\\faufr\\anaconda3\\lib\\site-packages (from anyio<5,>=3.5.0->openai) (3.3)\n",
      "Requirement already satisfied: httpcore==1.* in c:\\users\\faufr\\anaconda3\\lib\\site-packages (from httpx<1,>=0.23.0->openai) (1.0.7)\n",
      "Requirement already satisfied: certifi in c:\\users\\faufr\\anaconda3\\lib\\site-packages (from httpx<1,>=0.23.0->openai) (2024.12.14)\n",
      "Requirement already satisfied: h11<0.15,>=0.13 in c:\\users\\faufr\\anaconda3\\lib\\site-packages (from httpcore==1.*->httpx<1,>=0.23.0->openai) (0.14.0)\n",
      "Requirement already satisfied: annotated-types>=0.6.0 in c:\\users\\faufr\\anaconda3\\lib\\site-packages (from pydantic<3,>=1.9.0->openai) (0.7.0)\n",
      "Requirement already satisfied: pydantic-core==2.27.1 in c:\\users\\faufr\\anaconda3\\lib\\site-packages (from pydantic<3,>=1.9.0->openai) (2.27.1)\n",
      "Requirement already satisfied: colorama in c:\\users\\faufr\\anaconda3\\lib\\site-packages (from tqdm>4->openai) (0.4.4)\n"
     ]
    }
   ],
   "source": [
    "!pip install openai python-dotenv"
   ]
  },
  {
   "cell_type": "code",
   "execution_count": 21,
   "id": "610122ef-df18-4aef-9ab2-31ab766ec8e9",
   "metadata": {},
   "outputs": [
    {
     "name": "stdout",
     "output_type": "stream",
     "text": [
      "Collecting python-docx\n",
      "  Downloading python_docx-1.1.2-py3-none-any.whl (244 kB)\n",
      "Requirement already satisfied: typing-extensions>=4.9.0 in c:\\users\\faufr\\anaconda3\\lib\\site-packages (from python-docx) (4.12.2)\n",
      "Requirement already satisfied: lxml>=3.1.0 in c:\\users\\faufr\\anaconda3\\lib\\site-packages (from python-docx) (4.8.0)\n",
      "Installing collected packages: python-docx\n",
      "Successfully installed python-docx-1.1.2\n",
      "Note: you may need to restart the kernel to use updated packages.\n"
     ]
    }
   ],
   "source": [
    "pip install python-docx"
   ]
  },
  {
   "cell_type": "code",
   "execution_count": 17,
   "id": "cf372861-00f2-4cf2-859c-f802946df5d8",
   "metadata": {},
   "outputs": [],
   "source": [
    "import openai\n",
    "import os\n",
    "from dotenv import load_dotenv, find_dotenv\n",
    "\n",
    "# Load environment variables from .env file\n",
    "_ = load_dotenv(find_dotenv())\n",
    "\n",
    "# Access your API key\n",
    "openai.api_key = os.getenv('OPENAI_API_KEY')"
   ]
  },
  {
   "cell_type": "code",
   "execution_count": 5,
   "id": "0dd32d2a-e621-475c-827f-a95cbaf436bd",
   "metadata": {},
   "outputs": [
    {
     "name": "stdout",
     "output_type": "stream",
     "text": [
      "Current working directory: C:\\Users\\faufr\\Documents\\GitHub\\GenAI_project\n",
      "Contents: ['.env', '.git', '.gitignore', '.ipynb_checkpoints', 'capstone_project.ipynb', 'README.md']\n"
     ]
    }
   ],
   "source": [
    "#Checking directory for '.env' + '.gitignore'\n",
    "print(\"Current working directory:\", os.getcwd())\n",
    "print(\"Contents:\", os.listdir(os.getcwd()))"
   ]
  },
  {
   "cell_type": "code",
   "execution_count": null,
   "id": "513cc45e-a7a1-4145-a051-531ca6c7f8ed",
   "metadata": {},
   "outputs": [],
   "source": [
    "# CHECK your API key\n",
    "print(os.environ.get(\"OPENAI_API_KEY\"))"
   ]
  },
  {
   "cell_type": "markdown",
   "id": "9852ff85-64d8-4e17-abbd-bc951d4f1ebd",
   "metadata": {},
   "source": [
    "## Creating test-prompt"
   ]
  },
  {
   "cell_type": "code",
   "execution_count": 9,
   "id": "1c622484-1af1-4130-8a7a-ef5c7bc804f5",
   "metadata": {},
   "outputs": [],
   "source": [
    "\n",
    "from openai import OpenAI\n",
    "# Initialize OpenAI client\n",
    "client = OpenAI(\n",
    "    api_key=os.getenv('OPENAI_API_KEY')\n",
    ")\n",
    "\n",
    "def get_completion(prompt, model=\"gpt-4o-mini\"):\n",
    "    messages = [\n",
    "        {\n",
    "            \"role\": \"system\",\n",
    "            \"content\": \"You are a very skilled language teacher. Your answers are precise and you use easy language.\"\n",
    "        },\n",
    "        {\n",
    "            \"role\": \"user\",\n",
    "            \"content\": prompt\n",
    "        }\n",
    "    ]\n",
    "    \n",
    "    response = client.chat.completions.create(\n",
    "        model=model,\n",
    "        messages=messages,\n",
    "        temperature=0\n",
    "    )\n",
    "    return response.choices[0].message.content\n"
   ]
  },
  {
   "cell_type": "code",
   "execution_count": 11,
   "id": "4e621faf-bfca-4188-b8ce-687fec17e173",
   "metadata": {},
   "outputs": [
    {
     "name": "stdout",
     "output_type": "stream",
     "text": [
      "The Undertaker is a famous professional wrestler in WWE (World Wrestling Entertainment). His real name is Mark Calaway, and he is known for his dark, mysterious character and impressive performances in the ring. He has been a part of wrestling for over 30 years and is considered one of the greatest wrestlers of all time.\n",
      "\n",
      "Some of his favorite wrestling moves include:\n",
      "\n",
      "1. **Tombstone Piledriver**: This is his signature finishing move, where he lifts his opponent upside down and then drops them on their head.\n",
      "\n",
      "2. **Chokeslam**: He grabs his opponent by the throat and lifts them high before slamming them down to the mat.\n",
      "\n",
      "3. **Last Ride**: This is a powerful move where he lifts his opponent onto his shoulders and then slams them down.\n",
      "\n",
      "4. **Old School**: He walks along the top rope and then jumps down onto his opponent.\n",
      "\n",
      "These moves are part of what makes The Undertaker a legendary figure in wrestling!\n"
     ]
    }
   ],
   "source": [
    "prompt = \"Who is 'The Undertaker' and what are his favorite wrestling moves?\"\n",
    "response = get_completion(prompt)\n",
    "print(response)"
   ]
  },
  {
   "cell_type": "markdown",
   "id": "ba1999af-b388-43ad-9d74-b3ddf42b98f4",
   "metadata": {},
   "source": [
    "## Importing texts\n",
    "* example texts to analyze with the LLM"
   ]
  },
  {
   "cell_type": "code",
   "execution_count": 23,
   "id": "edbc8f3e-eb01-4d81-9ea1-32e2b2d2d79e",
   "metadata": {},
   "outputs": [],
   "source": []
  },
  {
   "cell_type": "code",
   "execution_count": 25,
   "id": "d32ea029-c0e0-4302-84fc-c4c8f85b817a",
   "metadata": {},
   "outputs": [
    {
     "name": "stdout",
     "output_type": "stream",
     "text": [
      "<docx.document.Document object at 0x00000187AA941220>\n",
      "Correo electronico \n",
      "\n",
      "De: adrian123@gmail.com\n",
      "Para: padres123@gmail.com\n",
      "Fecha: 12 de novembre de 2024\n",
      "Asunto: me ciudad favorita\n",
      "\n",
      "Queridos padres,\n",
      "\n",
      "Estoy en mi ciuadad favorita, Barcelona. La ciudad es muy bonita y hay mucha gente viviendo aquí. Además, hace mucho calor aquí en Barcelona.\n",
      "\n",
      "Hoy he visto la ciudad. Para el almuerzo probe tapas en un pequeno restaurante local. ! Fue delicioso! Me gusta de la playa y comer. Luego pasee por el parque y pasee por la playa de la noche. Mas tarde me relaje en la playa de la Barcelona.\n",
      "\n",
      "Manana tengo planes emocionantes. Quiero visitar muchos mercados y restaurantes para probar mas comida tipica. Tambien espero encontar algunos Souvenirs unicos para llevar a casa.\n",
      "\n",
      "Estoy disfrutando mucho de mi tiempo aqui y no puedo esperar para contarles mas.\n",
      "\n",
      "Saludos,\n",
      "Adrian\n",
      "\n",
      "\n"
     ]
    }
   ],
   "source": [
    "#IMPORTING example text\n",
    "from docx import Document\n",
    "\n",
    "# Path to the Word document\n",
    "file_path = './data/correo electronico.docx'\n",
    "\n",
    "# Open and read the document\n",
    "doc = Document(file_path)\n",
    "print(doc)\n",
    "\n",
    "# Combine all paragraphs into one string\n",
    "document_text = \"\\n\".join(paragraph.text for paragraph in doc.paragraphs)\n",
    "print(document_text)"
   ]
  },
  {
   "cell_type": "markdown",
   "id": "a879a93d-3657-4b7c-9c45-f6c6151528f0",
   "metadata": {},
   "source": [
    "## Analyzing the data with an LLM\n",
    "\n",
    "* The prompt was designed using the CO-STAR framework. (https://towardsdatascience.com/how-i-won-singapores-gpt-4-prompt-engineering-competition-34c195a93d41)\n",
    "* The aim of this prompt is to provide examples structure for the LLM to correct the provided text sample (\"correo_electrónico\" --> document_text). The LLM should use the CEFRL (Common Framework of Reference for Language) to set a bar for the expected quality of the written text which was delivered by a student.\n",
    "* The actual structre of the feedback is derived from the offical Austrian guidelines for grading students' assignements released by the Austrian **Ministry for Education, Science and Research** ("
   ]
  },
  {
   "cell_type": "code",
   "execution_count": 29,
   "id": "6cf360af-ffc3-4df9-8316-dc999ddedc8a",
   "metadata": {},
   "outputs": [
    {
     "name": "stdout",
     "output_type": "stream",
     "text": [
      "Correo electronico \n",
      "\n",
      "De: adrian123@gmail.com  \n",
      "Para: padres123@gmail.com  \n",
      "Fecha: 12 de novembre de 2024  \n",
      "Asunto: me ciudad favorita  \n",
      "\n",
      "Queridos padres,  \n",
      "\n",
      "Estoy en mi ciuadad favorita, Barcelona. (Estoy en mi ciudad favorita, Barcelona.) La ciudad es muy bonita y hay mucha gente viviendo aquí. Además, hace mucho calor aquí en Barcelona.  \n",
      "\n",
      "Hoy he visto la ciudad. Para el almuerzo probe tapas en un pequeno restaurante local. (Para el almuerzo probé tapas en un pequeño restaurante local.) ! Fue delicioso! Me gusta de la playa y comer. (Me gusta la playa y comer.) Luego pasee por el parque y pasee por la playa de la noche. (Luego paseé por el parque y paseé por la playa de la noche.) Mas tarde me relaje en la playa de la Barcelona. (Más tarde me relajé en la playa de Barcelona.)  \n",
      "\n",
      "Manana tengo planes emocionantes. (Mañana tengo planes emocionantes.) Quiero visitar muchos mercados y restaurantes para probar mas comida tipica. (Quiero visitar muchos mercados y restaurantes para probar más comida típica.) Tambien espero encontar algunos Souvenirs unicos para llevar a casa. (También espero encontrar algunos souvenirs únicos para llevar a casa.)  \n",
      "\n",
      "Estoy disfrutando mucho de mi tiempo aqui y no puedo esperar para contarles mas. (Estoy disfrutando mucho de mi tiempo aquí y no puedo esperar para contarles más.)  \n",
      "\n",
      "Saludos,  \n",
      "Adrian  \n",
      "\n",
      "Feedback: Du hast viele gute Ideen, aber achte auf die richtige Schreibweise und die Konjugation der Verben.  \n",
      "An diesem Grammatikthema/diesen Grammatikthemen solltest du noch arbeiten: Rechtschreibung, Verbkonjugation, Akzentzeichen.  \n",
      "Beurteilungsraster A2:  \n",
      "- Erfüllung der Aufgabenstellung (EA): gut, du hast das Thema gut behandelt.  \n",
      "- Aufbau und Layout (AL): gut, der Aufbau ist klar und verständlich.  \n",
      "- Spektrum Sprachlicher Mittel (SSM): gut, du verwendest verschiedene Sätze.  \n",
      "- Sprachrichtigkeit (SR): befriedigend, es gibt einige Fehler in der Grammatik und Rechtschreibung.\n"
     ]
    }
   ],
   "source": [
    "prompt = f\"\"\"\n",
    "Correct the mistakes of the provided text. The text was written by a student. The student should have a language level A2-B1 according\n",
    "to Common European Framework of Reference for Languages: Learning, Teaching, Assessment CEFRL. Correct the mistakes and provide the adequate solutions.\n",
    "Don't change the original input text. Only use this structure to correct the text:\n",
    "\n",
    "Example 1: \"Yo te llama José.\"\n",
    "Corrected example 1: \"Yo te llama José. (Yo me llamo José.)\"\n",
    "Example 2: \"Las coches es caros.\"\n",
    "Corrected example 2: \"Las coches es caros. (Las coches son caros.)\"\n",
    "Example 3: \"Hola María, yo te llama José.\"\n",
    "Corrected example 3: \"Hola María, yo te llama José. (Hola María, me llamo José.) Me gusta los caballo. (Me gustan los caballos.)\"\n",
    "\n",
    "Please correct this text and provide one sentence objective and simple with feedback and which grammar topics the student should improve.\n",
    "The feedback and explanations have to be in german.\n",
    "Feedback structure:\n",
    "\"Feedback: [insert feedback sentence here]\n",
    "An diesem Grammatikthema/diesen Grammatikthemen solltest du noch arbeiten: [insert grammar topics here]\n",
    "Beurteilungsraster A2:\n",
    "- Erfüllung der Aufgabenstellung (EA): [insert chosen descriptions]\n",
    "- Aufbau und Layout (AL): [insert chosen descriptions]\n",
    "- Spektrum Sprachlicher Mittel (SSM): [insert chosen descriptions]\n",
    "- Sprachrichtigkeit (SR): [insert chosen descriptions]\"\n",
    "```{document_text}```\n",
    "\"\"\"\n",
    "\n",
    "response = get_completion(prompt)\n",
    "print(response)"
   ]
  },
  {
   "cell_type": "markdown",
   "id": "c55bd431-a6f6-4748-8772-0dc87597821f",
   "metadata": {},
   "source": [
    "## Ad data to the pipeline\n",
    "* Beurteilungsraster\n",
    "* templates for text types\n",
    "* connect to cloud\n",
    "\n",
    "https://www.reddit.com/r/LangChain/comments/18dloff/attaching_files_to_user_prompt_when_using/?rdt=42513\n",
    "\n",
    "https://python.langchain.com/docs/tutorials/rag/\n",
    "\n",
    "https://llamahub.ai/\n",
    "\n",
    "* python analyzer: https://pypi.org/project/cefrpy/"
   ]
  },
  {
   "cell_type": "code",
   "execution_count": 32,
   "id": "1374bcd8-6ae1-47df-9f14-b5deec3c4943",
   "metadata": {},
   "outputs": [],
   "source": [
    "# Langchain?\n",
    "# Llamaindex? --> RAG?"
   ]
  },
  {
   "cell_type": "markdown",
   "id": "f5678639-6554-434a-9bde-ea7839dc0a69",
   "metadata": {},
   "source": [
    "# To-do:\n",
    "* add langchain? (add tools and other methods?)\n",
    "* add MS Outlook Mail or MS Teams message?\n",
    "* create a pdf out of the feedback?\n",
    "* RAG with langchain: https://levelup.gitconnected.com/unlocking-llms-potential-with-rag-a-complete-guide-from-basics-to-advanced-techniques-b4557f268134\n"
   ]
  },
  {
   "cell_type": "code",
   "execution_count": null,
   "id": "0b90a1f8-052e-443c-9733-53df18ab52c4",
   "metadata": {},
   "outputs": [],
   "source": []
  },
  {
   "cell_type": "markdown",
   "id": "c18ed72b-2685-4a62-8cda-1ae9dacb12bd",
   "metadata": {},
   "source": [
    "# Future use\n",
    "* connect LLM to SQL-database (CONNECTION to project of RESEARCH SEMINAR): https://medium.com/dataherald/how-to-connect-llm-to-sql-database-with-langchain-sqlagent-48635fddaa74\n",
    "* connect to database of \"Aufgabenpool\" tasks: https://aufgabenpool.at/srdp_lfs/index.php?id=sp\n",
    "* langchain + sqlchain https://medium.com/dataherald/how-to-langchain-sqlchain-c7342dd41614"
   ]
  },
  {
   "cell_type": "code",
   "execution_count": null,
   "id": "999dcb47-88ce-4ff7-919f-cc1e9e58cde9",
   "metadata": {},
   "outputs": [],
   "source": []
  }
 ],
 "metadata": {
  "kernelspec": {
   "display_name": "Python [conda env:base] *",
   "language": "python",
   "name": "conda-base-py"
  },
  "language_info": {
   "codemirror_mode": {
    "name": "ipython",
    "version": 3
   },
   "file_extension": ".py",
   "mimetype": "text/x-python",
   "name": "python",
   "nbconvert_exporter": "python",
   "pygments_lexer": "ipython3",
   "version": "3.9.12"
  }
 },
 "nbformat": 4,
 "nbformat_minor": 5
}
