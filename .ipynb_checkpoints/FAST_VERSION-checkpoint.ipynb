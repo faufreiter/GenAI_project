{
 "cells": [
  {
   "cell_type": "markdown",
   "id": "88c90582-ddb1-4976-9916-d79ff9778751",
   "metadata": {},
   "source": [
    "# FAST Version of the RAG-pipeline\n",
    "* Please run this code to start the pipeline\n",
    "* After that copy and paste the path of the document you would like to correct"
   ]
  },
  {
   "cell_type": "markdown",
   "id": "06a1bea0-1272-4a85-ad64-249734bcea54",
   "metadata": {},
   "source": [
    "## Try this version without saving any files"
   ]
  },
  {
   "cell_type": "code",
   "execution_count": 18,
   "id": "4ce5a27f-e808-4e60-b294-93b3ff94081a",
   "metadata": {
    "scrolled": true
   },
   "outputs": [
    {
     "name": "stdout",
     "output_type": "stream",
     "text": [
      "Correo electronico \n",
      "\n",
      "De: adrian123@gmail.com\n",
      "Para: padres123@gmail.com\n",
      "Fecha: 12 de novembre de 2024 (Fecha: 12 de noviembre de 2024)\n",
      "Asunto: me ciudad favorita (Asunto: mi ciudad favorita)\n",
      "\n",
      "Queridos padres,\n",
      "\n",
      "Estoy en mi ciuadad favorita, Barcelona. (Estoy en mi ciudad favorita, Barcelona.) La ciudad es muy bonita y hay mucha gente viviendo aquí. Además, hace mucho calor aquí en Barcelona.\n",
      "\n",
      "Hoy he visto la ciudad. Para el almuerzo probe tapas en un pequeno restaurante local. (Para el almuerzo probé tapas en un pequeño restaurante local.) ! Fue delicioso! (¡Fue delicioso!) Me gusta de la playa y comer. (Me gusta la playa y comer.) Luego pasee por el parque y pasee por la playa de la noche. (Luego paseé por el parque y paseé por la playa por la noche.) Mas tarde me relaje en la playa de la Barcelona. (Más tarde me relajé en la playa de Barcelona.)\n",
      "\n",
      "Manana tengo planes emocionantes. (Mañana tengo planes emocionantes.) Quiero visitar muchos mercados y restaurantes para probar mas comida tipica. (Quiero visitar muchos mercados y restaurantes para probar más comida típica.) Tambien espero encontar algunos Souvenirs unicos para llevar a casa. (También espero encontrar algunos souvenirs únicos para llevar a casa.)\n",
      "\n",
      "Estoy disfrutando mucho de mi tiempo aqui y no puedo esperar para contarles mas. (Estoy disfrutando mucho de mi tiempo aquí y no puedo esperar para contarles más.)\n",
      "\n",
      "Saludos,\n",
      "Adrian\n",
      "\n",
      "Feedback: Du hast einen guten Text geschrieben, aber es gibt einige Fehler in Bezug auf Akzente, Rechtschreibung und Wortwahl.\n",
      "An diesem Grammatikthema/diesen Grammatikthemen solltest du noch arbeiten: Akzente, Rechtschreibung und Wortwahl.\n",
      "Beurteilungsraster A2:\n",
      "- Erfüllung der Aufgabenstellung (EA): Die Aufgabenstellung wurde weitgehend erfüllt.\n",
      "- Aufbau und Layout (AL): Der Aufbau und das Layout sind angemessen.\n",
      "- Spektrum Sprachlicher Mittel (SSM): Das Spektrum der sprachlichen Mittel ist ausreichend.\n",
      "- Sprachrichtigkeit (SR): Es gibt einige Fehler, aber die Kommunikation ist nicht gestört.\n"
     ]
    }
   ],
   "source": [
    "from docx import Document\n",
    "from llama_index.core import StorageContext, load_index_from_storage, Settings\n",
    "from llama_index.llms.openai import OpenAI\n",
    "import openai\n",
    "from dotenv import load_dotenv\n",
    "import os\n",
    "\n",
    "def correct_document(file_path):\n",
    "    # Setup\n",
    "    load_dotenv()\n",
    "    openai.api_key = os.getenv('OPENAI_API_KEY')\n",
    "    Settings.llm = OpenAI(model=\"gpt-4\", temperature=0.3)\n",
    "    \n",
    "    # Read document\n",
    "    doc = Document(file_path)\n",
    "    text = \"\\n\".join(paragraph.text for paragraph in doc.paragraphs)\n",
    "    \n",
    "    # Load index and create query engine\n",
    "    index = load_index_from_storage(StorageContext.from_defaults(persist_dir=\"./RAG_index\"))\n",
    "    \n",
    "    # Process correction\n",
    "    correction_prompt = f\"\"\"\n",
    "    Correct the mistakes of the provided text. The text was written by a student. The student should have a language level A2-B1 according\n",
    "    to Common European Framework of Reference for Languages: Learning, Teaching, Assessment CEFRL. Correct the mistakes and provide the adequate solutions.\n",
    "    Don't change the original input text. Add only the version with the corrections to your answer. Only use this structure to correct the text:\n",
    "\n",
    "    Example 1: \"Yo te llama José.\"\n",
    "    Corrected example 1: \"Yo te llama José. (Yo me llamo José.)\"\n",
    "    Example 2: \"Las coches es caros.\"\n",
    "    Corrected example 2: \"Las coches es caros. (Los coches son caros.)\"\n",
    "    Example 3: \"Hola María, yo te llama José.\"\n",
    "    Corrected example 3: \"Hola María, yo te llama José. (Hola María, me llamo José.) Me gusta los caballo. (Me gustan los caballos.)\"\n",
    "\n",
    "    Please correct this text and provide one sentence objective and simple with feedback and which grammar topics the student should improve.\n",
    "    The feedback and explanations have to be in german.\n",
    "    Feedback structure:\n",
    "    \"Feedback: [insert feedback sentence here]\n",
    "    An diesem Grammatikthema/diesen Grammatikthemen solltest du noch arbeiten: [insert grammar topics here]\n",
    "    Beurteilungsraster A2:\n",
    "    - Erfüllung der Aufgabenstellung (EA): [insert chosen descriptions]\n",
    "    - Aufbau und Layout (AL): [insert chosen descriptions]\n",
    "    - Spektrum Sprachlicher Mittel (SSM): [insert chosen descriptions]\n",
    "    - Sprachrichtigkeit (SR): [insert chosen descriptions]\"\n",
    "\n",
    "    Text to correct: {text}\n",
    "    \"\"\"\n",
    "    \n",
    "    return index.as_query_engine().query(correction_prompt)\n",
    "\n",
    "# Usage\n",
    "print(correct_document('./data/correo electronico.docx'))"
   ]
  },
  {
   "cell_type": "markdown",
   "id": "a5662f47-ed85-4b71-818a-6ad02da6fa01",
   "metadata": {},
   "source": [
    "## Correction without saving"
   ]
  },
  {
   "cell_type": "code",
   "execution_count": 3,
   "id": "4bf63a3b-8633-4b5d-ae79-aa5f80887157",
   "metadata": {
    "collapsed": true,
    "jupyter": {
     "outputs_hidden": true
    }
   },
   "outputs": [
    {
     "name": "stdout",
     "output_type": "stream",
     "text": [
      "Correo electronico \n",
      "\n",
      "De: adrian123@gmail.com\n",
      "Para: padres123@gmail.com\n",
      "Fecha: 12 de novembre de 2024. (Fecha: 12 de noviembre de 2024.)\n",
      "Asunto: me ciudad favorita. (Asunto: mi ciudad favorita.)\n",
      "\n",
      "Queridos padres,\n",
      "\n",
      "Estoy en mi ciuadad favorita, Barcelona. (Estoy en mi ciudad favorita, Barcelona.) La ciudad es muy bonita y hay mucha gente viviendo aquí. Además, hace mucho calor aquí en Barcelona.\n",
      "\n",
      "Hoy he visto la ciudad. Para el almuerzo probe tapas en un pequeno restaurante local. (Para el almuerzo probé tapas en un pequeño restaurante local.) ! Fue delicioso! (¡Fue delicioso!) Me gusta de la playa y comer. (Me gusta la playa y comer.) Luego pasee por el parque y pasee por la playa de la noche. (Luego paseé por el parque y paseé por la playa en la noche.) Mas tarde me relaje en la playa de la Barcelona. (Más tarde me relajé en la playa de Barcelona.)\n",
      "\n",
      "Manana tengo planes emocionantes. (Mañana tengo planes emocionantes.) Quiero visitar muchos mercados y restaurantes para probar mas comida tipica. (Quiero visitar muchos mercados y restaurantes para probar más comida típica.) Tambien espero encontar algunos Souvenirs unicos para llevar a casa. (También espero encontrar algunos souvenirs únicos para llevar a casa.)\n",
      "\n",
      "Estoy disfrutando mucho de mi tiempo aqui y no puedo esperar para contarles mas. (Estoy disfrutando mucho de mi tiempo aquí y no puedo esperar para contarles más.)\n",
      "\n",
      "Saludos,\n",
      "Adrian\n",
      "\n",
      "Feedback: Du hast einen guten Job gemacht, aber es gibt einige Fehler, die du verbessern kannst. Du solltest auf die korrekte Schreibweise von Wörtern und die Verwendung von Akzenten achten. Auch die Verwendung von Präpositionen und Artikeln sollte überprüft werden.\n",
      "An diesem Grammatikthema/diesen Grammatikthemen solltest du noch arbeiten: Rechtschreibung, Akzentsetzung, Verwendung von Präpositionen und Artikeln.\n",
      "Beurteilungsraster A2:\n",
      "- Erfüllung der Aufgabenstellung (EA): Die meisten Aspekte der Aufgabenstellung wurden erfüllt.\n",
      "- Aufbau und Layout (AL): Der Text ist gut strukturiert und das Layout ist angemessen.\n",
      "- Spektrum Sprachlicher Mittel (SSM): Es wurde eine angemessene Vielfalt an sprachlichen Mitteln verwendet.\n",
      "- Sprachrichtigkeit (SR): Es gibt einige Fehler, aber die Botschaft ist klar.\n"
     ]
    }
   ],
   "source": [
    "response = correct_document('./data/correo electronico.docx')\n",
    "print(response)"
   ]
  },
  {
   "cell_type": "markdown",
   "id": "5e4a3c40-a5cb-4936-b7e8-b5f21c66ec88",
   "metadata": {},
   "source": [
    "## Correction of text + word-document \n",
    "* Please run this code to start the pipeline\n",
    "* After that copy and paste the path of the document you would like to correct\n",
    "* It will be saved to `.corrected_texts` -folder\n",
    "### Install the package if not already available"
   ]
  },
  {
   "cell_type": "code",
   "execution_count": 46,
   "id": "94381f6a-e4a0-4bf2-aee6-c0d30d66d21f",
   "metadata": {},
   "outputs": [
    {
     "name": "stdout",
     "output_type": "stream",
     "text": [
      "Requirement already satisfied: python-docx in c:\\users\\faufr\\anaconda3\\lib\\site-packages (1.1.2)\n",
      "Requirement already satisfied: typing-extensions>=4.9.0 in c:\\users\\faufr\\anaconda3\\lib\\site-packages (from python-docx) (4.12.2)\n",
      "Requirement already satisfied: lxml>=3.1.0 in c:\\users\\faufr\\anaconda3\\lib\\site-packages (from python-docx) (4.8.0)\n"
     ]
    }
   ],
   "source": [
    "!pip install python-docx"
   ]
  },
  {
   "cell_type": "code",
   "execution_count": 28,
   "id": "eab9d0be-cf12-4cb7-af87-f440d76e0faf",
   "metadata": {},
   "outputs": [
    {
     "name": "stdout",
     "output_type": "stream",
     "text": [
      "Correction saved to:\n",
      "- corrected_texts\\correo electronico_corrected_20250126_141832.docx\n",
      "\n",
      "\n",
      "Correction Result:\n",
      "\"Correo electronico \n",
      "\n",
      "De: adrian123@gmail.com\n",
      "Para: padres123@gmail.com\n",
      "Fecha: 12 de novembre de 2024. (Fecha: 12 de noviembre de 2024.)\n",
      "Asunto: me ciudad favorita. (Asunto: mi ciudad favorita.)\n",
      "\n",
      "Queridos padres,\n",
      "\n",
      "Estoy en mi ciuadad favorita, Barcelona. (Estoy en mi ciudad favorita, Barcelona.) La ciudad es muy bonita y hay mucha gente viviendo aquí. Además, hace mucho calor aquí en Barcelona.\n",
      "\n",
      "Hoy he visto la ciudad. Para el almuerzo probe tapas en un pequeno restaurante local. (Para el almuerzo probé tapas en un pequeño restaurante local.) ! Fue delicioso! (¡Fue delicioso!) Me gusta de la playa y comer. (Me gusta la playa y comer.) Luego pasee por el parque y pasee por la playa de la noche. (Luego paseé por el parque y paseé por la playa de noche.) Mas tarde me relaje en la playa de la Barcelona. (Más tarde me relajé en la playa de Barcelona.)\n",
      "\n",
      "Manana tengo planes emocionantes. (Mañana tengo planes emocionantes.) Quiero visitar muchos mercados y restaurantes para probar mas comida tipica. (Quiero visitar muchos mercados y restaurantes para probar más comida típica.) Tambien espero encontar algunos Souvenirs unicos para llevar a casa. (También espero encontrar algunos souvenirs únicos para llevar a casa.)\n",
      "\n",
      "Estoy disfrutando mucho de mi tiempo aqui y no puedo esperar para contarles mas. (Estoy disfrutando mucho de mi tiempo aquí y no puedo esperar para contarles más.)\n",
      "\n",
      "Saludos,\n",
      "Adrian\"\n",
      "\n",
      "Feedback: Dein Text ist gut verständlich, aber es gibt einige Rechtschreib- und Grammatikfehler, die verbessert werden sollten.\n",
      "\n",
      "An diesem Grammatikthema/diesen Grammatikthemen solltest du noch arbeiten: Akzentsetzung, Verwendung von Artikeln, Rechtschreibung und Zeichensetzung.\n",
      "\n",
      "Diesem Niveau würde der Text entstprechen: A2\n",
      "\n",
      "Kriterien des Beurteilungsrasters:\n",
      "- Erfüllung der Aufgabenstellung (EA): Die Aufgabenstellung wurde größtenteils erfüllt, obwohl es einige Fehler gibt.\n",
      "- Aufbau und Layout (AL): Der Text ist gut strukturiert und folgt dem Format einer E-Mail.\n",
      "- Spektrum Sprachlicher Mittel (SSM): Der Wortschatz ist angemessen, könnte aber erweitert werden.\n",
      "- Sprachrichtigkeit (SR): Es gibt mehrere Rechtschreib- und Grammatikfehler, die korrigiert werden sollten.\n"
     ]
    }
   ],
   "source": [
    "from docx import Document\n",
    "from llama_index.core import StorageContext, load_index_from_storage, Settings\n",
    "from llama_index.llms.openai import OpenAI\n",
    "import openai\n",
    "from dotenv import load_dotenv\n",
    "import os\n",
    "from datetime import datetime\n",
    "from docx.shared import Pt\n",
    "from docx.enum.text import WD_PARAGRAPH_ALIGNMENT\n",
    "import pathlib\n",
    "\n",
    "def correct_document(file_path):\n",
    "    # Setup\n",
    "    load_dotenv()\n",
    "    openai.api_key = os.getenv('OPENAI_API_KEY')\n",
    "    Settings.llm = OpenAI(model=\"gpt-4\", temperature=0.3)\n",
    "    \n",
    "    # Create output directory if it doesn't exist\n",
    "    output_dir = pathlib.Path('./corrected_texts')\n",
    "    output_dir.mkdir(exist_ok=True)\n",
    "    \n",
    "    # Read document\n",
    "    doc = Document(file_path)\n",
    "    text = \"\\n\".join(paragraph.text for paragraph in doc.paragraphs)\n",
    "    \n",
    "    # Load index and create query engine\n",
    "    index = load_index_from_storage(StorageContext.from_defaults(persist_dir=\"./RAG_index\"))\n",
    "    \n",
    "    # Process correction\n",
    "    correction_prompt = f\"\"\"\n",
    "    Correct the mistakes of the provided text. The text was written by a student. The student should have a language level A2-B1 according\n",
    "    to Common European Framework of Reference for Languages: Learning, Teaching, Assessment CEFRL. Correct the mistakes and provide the adequate solutions.\n",
    "    Don't change the original input text. Only use this structure to correct the text:\n",
    "\n",
    "    Example 1: \"Yo te llama José.\"\n",
    "    Corrected example 1: \"Yo te llama José. (Yo me llamo José.)\"\n",
    "    Example 2: \"Las coches es caros.\"\n",
    "    Corrected example 2: \"Las coches es caros. (Los coches son caros.)\"\n",
    "    Example 3: \"Hola María, yo te llama José.\"\n",
    "    Corrected example 3: \"Hola María, yo te llama José. (Hola María, me llamo José.) Me gusta los caballo. (Me gustan los caballos.)\"\n",
    "\n",
    "    Please correct this text and provide one sentence objective and simple with feedback and which grammar topics the student should improve.\n",
    "    The feedback and explanations have to be in german.\n",
    "    \n",
    "    Feedback structure:\n",
    "    \"Feedback*: [insert feedback sentence here]\n",
    "    \n",
    "    An diesem Grammatikthema/diesen Grammatikthemen solltest du noch arbeiten: [insert grammar topics here]\n",
    "    \\n\n",
    "    Diesem Niveau würde der Text entstprechen [use your knowledge to chose a level according to Common European Framework of Reference for Languages: Learning, Teaching, Assessment CEFRL]\n",
    "    \\n\n",
    "    Kriterien des Beurteilungsrasters:\n",
    "    - Erfüllung der Aufgabenstellung (EA): [insert chosen descriptions]\n",
    "    - Aufbau und Layout (AL): [insert chosen descriptions]\n",
    "    - Spektrum Sprachlicher Mittel (SSM): [insert chosen descriptions]\n",
    "    - Sprachrichtigkeit (SR): [insert chosen descriptions]\"\n",
    "\n",
    "    Text to correct: {text}\n",
    "    \"\"\"\n",
    "    \n",
    "    response = index.as_query_engine().query(correction_prompt)\n",
    "    \n",
    "    # Generate timestamp for unique filenames\n",
    "    timestamp = datetime.now().strftime(\"%Y%m%d_%H%M%S\")\n",
    "    original_filename = pathlib.Path(file_path).stem\n",
    "    \n",
    "    # Create Word document\n",
    "    doc_output = Document()\n",
    "    \n",
    "    # Add title\n",
    "    title = doc_output.add_heading('Texto corregido', 0)\n",
    "    title.alignment = WD_PARAGRAPH_ALIGNMENT.CENTER\n",
    "    \n",
    "    # Add correction and feedback\n",
    "    doc_output.add_heading('Corrección y feedback:', level=1)\n",
    "    doc_output.add_paragraph(str(response))\n",
    "    \n",
    "    # Save as Word document\n",
    "    docx_path = output_dir / f'{original_filename}_corrected_{timestamp}.docx'\n",
    "    doc_output.save(docx_path)\n",
    "    \n",
    "    print(f\"Correction saved to:\\n- {docx_path}\\n\")\n",
    "    return response\n",
    "\n",
    "# Usage\n",
    "if __name__ == \"__main__\":\n",
    "    response = correct_document('./data/correo electronico.docx')\n",
    "    print(\"\\nCorrection Result:\")\n",
    "    print(response)\n"
   ]
  },
  {
   "cell_type": "markdown",
   "id": "2f6db0a8-75bc-4bbc-8c6e-3002c88293b7",
   "metadata": {},
   "source": [
    "## SUPER FAST VERSION\n",
    "* First you have to run the RAG-pipeline cell once.\n",
    "* Change the path to correct a different text.\n",
    "* It will be saved to `.corrected_texts` -folder"
   ]
  },
  {
   "cell_type": "code",
   "execution_count": 30,
   "id": "1b1d24fb-6bae-4e28-8154-36d13b000327",
   "metadata": {},
   "outputs": [
    {
     "name": "stdout",
     "output_type": "stream",
     "text": [
      "Correction saved to:\n",
      "- corrected_texts\\correo electronico_corrected_20250126_141934.docx\n",
      "\n"
     ]
    }
   ],
   "source": [
    "response = correct_document('./data/correo electronico.docx')"
   ]
  },
  {
   "cell_type": "code",
   "execution_count": 35,
   "id": "adc4bf78-faef-4c6c-87a1-475a8852376d",
   "metadata": {},
   "outputs": [
    {
     "name": "stdout",
     "output_type": "stream",
     "text": [
      "Correction saved to:\n",
      "- corrected_texts\\SP blog comment_corrected_20250126_142548.docx\n",
      "\n"
     ]
    }
   ],
   "source": [
    "response = correct_document('./data/SP blog comment.docx')"
   ]
  },
  {
   "cell_type": "markdown",
   "id": "c1abd5e2-630d-4dc1-a852-9ea286e6604b",
   "metadata": {},
   "source": [
    "## Creating exercises"
   ]
  },
  {
   "cell_type": "code",
   "execution_count": null,
   "id": "6d00fa78-755e-4def-a523-d7ac2eee04fe",
   "metadata": {},
   "outputs": [],
   "source": [
    "#Add exercises to docx-file --> mistakes of the student\n"
   ]
  },
  {
   "cell_type": "code",
   "execution_count": null,
   "id": "bb8f7631-fa53-4cdd-a53c-f9d28bffef37",
   "metadata": {},
   "outputs": [],
   "source": []
  }
 ],
 "metadata": {
  "kernelspec": {
   "display_name": "Python [conda env:base] *",
   "language": "python",
   "name": "conda-base-py"
  },
  "language_info": {
   "codemirror_mode": {
    "name": "ipython",
    "version": 3
   },
   "file_extension": ".py",
   "mimetype": "text/x-python",
   "name": "python",
   "nbconvert_exporter": "python",
   "pygments_lexer": "ipython3",
   "version": "3.9.12"
  }
 },
 "nbformat": 4,
 "nbformat_minor": 5
}
