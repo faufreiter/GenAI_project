{
 "cells": [
  {
   "cell_type": "markdown",
   "id": "88c90582-ddb1-4976-9916-d79ff9778751",
   "metadata": {},
   "source": [
    "# Everyday-Use Version of the RAG-pipeline\n",
    "* Please run this code to start the pipeline.\n",
    "* After that copy and paste the path of the document you would like to correct in the next cell. "
   ]
  },
  {
   "cell_type": "markdown",
   "id": "06a1bea0-1272-4a85-ad64-249734bcea54",
   "metadata": {},
   "source": [
    "## Try this version without saving any files"
   ]
  },
  {
   "cell_type": "code",
   "execution_count": 15,
   "id": "4ce5a27f-e808-4e60-b294-93b3ff94081a",
   "metadata": {
    "scrolled": true
   },
   "outputs": [
    {
     "name": "stdout",
     "output_type": "stream",
     "text": [
      "Correo electronico \n",
      "\n",
      "De: adrian123@gmail.com\n",
      "Para: padres123@gmail.com\n",
      "Fecha: 12 de novembre de 2024 (12 de noviembre de 2024)\n",
      "Asunto: me ciudad favorita (mi ciudad favorita)\n",
      "\n",
      "Queridos padres,\n",
      "\n",
      "Estoy en mi ciuadad favorita, Barcelona. (Estoy en mi ciudad favorita, Barcelona.) La ciudad es muy bonita y hay mucha gente viviendo aquí. Además, hace mucho calor aquí en Barcelona.\n",
      "\n",
      "Hoy he visto la ciudad. Para el almuerzo probe tapas en un pequeno restaurante local. (Para el almuerzo probé tapas en un pequeño restaurante local.) ! Fue delicioso! (¡Fue delicioso!) Me gusta de la playa y comer. (Me gusta la playa y comer.) Luego pasee por el parque y pasee por la playa de la noche. (Luego paseé por el parque y por la playa en la noche.) Mas tarde me relaje en la playa de la Barcelona. (Más tarde me relajé en la playa de Barcelona.)\n",
      "\n",
      "Manana tengo planes emocionantes. (Mañana tengo planes emocionantes.) Quiero visitar muchos mercados y restaurantes para probar mas comida tipica. (Quiero visitar muchos mercados y restaurantes para probar más comida típica.) Tambien espero encontar algunos Souvenirs unicos para llevar a casa. (También espero encontrar algunos souvenirs únicos para llevar a casa.)\n",
      "\n",
      "Estoy disfrutando mucho de mi tiempo aqui y no puedo esperar para contarles mas. (Estoy disfrutando mucho de mi tiempo aquí y no puedo esperar para contarles más.)\n",
      "\n",
      "Saludos,\n",
      "Adrian\n",
      "\n",
      "Feedback: Du hast einen guten Job gemacht, aber es gibt einige Fehler, die du korrigieren musst.\n",
      "An diesem Grammatikthema/diesen Grammatikthemen solltest du noch arbeiten: Akzentzeichen, Geschlecht und Anzahl der Nomen, Verwendung von Präpositionen.\n",
      "Beurteilungsraster A2:\n",
      "- Erfüllung der Aufgabenstellung (EA): Die Aufgabenstellung wurde weitgehend erfüllt.\n",
      "- Aufbau und Layout (AL): Der Aufbau und das Layout sind angemessen.\n",
      "- Spektrum Sprachlicher Mittel (SSM): Es wurde eine ausreichende Bandbreite an sprachlichen Mitteln verwendet.\n",
      "- Sprachrichtigkeit (SR): Es gibt einige Fehler, aber die Nachricht ist verständlich.\n"
     ]
    }
   ],
   "source": [
    "from docx import Document\n",
    "from llama_index.core import StorageContext, load_index_from_storage, Settings\n",
    "from llama_index.llms.openai import OpenAI\n",
    "import openai\n",
    "from dotenv import load_dotenv\n",
    "import os\n",
    "\n",
    "def correct_document(file_path):\n",
    "    # Setup\n",
    "    load_dotenv()\n",
    "    openai.api_key = os.getenv('OPENAI_API_KEY')\n",
    "    Settings.llm = OpenAI(model=\"gpt-4\", temperature=0.3)\n",
    "    \n",
    "    # Read document\n",
    "    doc = Document(file_path)\n",
    "    text = \"\\n\".join(paragraph.text for paragraph in doc.paragraphs)\n",
    "    \n",
    "    # Load index and create query engine\n",
    "    index = load_index_from_storage(StorageContext.from_defaults(persist_dir=\"./RAG_index\"))\n",
    "    \n",
    "    # Process correction\n",
    "    correction_prompt = f\"\"\"\n",
    "    Correct the mistakes of the provided text. The text was written by a student. The student should have a language level A2-B1 according\n",
    "    to Common European Framework of Reference for Languages: Learning, Teaching, Assessment CEFRL. Correct the mistakes and provide the adequate solutions.\n",
    "    Don't change the original input text. Add only the version with the corrections to your answer. Only use this structure to correct the text:\n",
    "\n",
    "    Example 1: \"Yo te llama José.\"\n",
    "    Corrected example 1: \"Yo te llama José. (Yo me llamo José.)\"\n",
    "    Example 2: \"Las coches es caros.\"\n",
    "    Corrected example 2: \"Las coches es caros. (Los coches son caros.)\"\n",
    "    Example 3: \"Hola María, yo te llama José.\"\n",
    "    Corrected example 3: \"Hola María, yo te llama José. (Hola María, me llamo José.) Me gusta los caballo. (Me gustan los caballos.)\"\n",
    "\n",
    "    Please correct this text and provide one sentence objective and simple with feedback and which grammar topics the student should improve.\n",
    "    The feedback and explanations have to be in german.\n",
    "    Feedback structure:\n",
    "    \"Feedback: [insert feedback sentence here]\n",
    "    An diesem Grammatikthema/diesen Grammatikthemen solltest du noch arbeiten: [insert grammar topics here]\n",
    "    Beurteilungsraster A2:\n",
    "    - Erfüllung der Aufgabenstellung (EA): [insert chosen descriptions]\n",
    "    - Aufbau und Layout (AL): [insert chosen descriptions]\n",
    "    - Spektrum Sprachlicher Mittel (SSM): [insert chosen descriptions]\n",
    "    - Sprachrichtigkeit (SR): [insert chosen descriptions]\"\n",
    "\n",
    "    Text to correct: {text}\n",
    "    \"\"\"\n",
    "    \n",
    "    return index.as_query_engine().query(correction_prompt)\n",
    "\n",
    "# Usage\n",
    "print(correct_document('./data/correo electronico.docx'))"
   ]
  },
  {
   "cell_type": "markdown",
   "id": "a5662f47-ed85-4b71-818a-6ad02da6fa01",
   "metadata": {},
   "source": [
    "## Correction without saving\n",
    "* **Copy and paste the path** of the document you would like to correct in the **cell below**. "
   ]
  },
  {
   "cell_type": "code",
   "execution_count": 20,
   "id": "4bf63a3b-8633-4b5d-ae79-aa5f80887157",
   "metadata": {},
   "outputs": [
    {
     "name": "stdout",
     "output_type": "stream",
     "text": [
      "Escrito por: Sofia Y, el 23 de febrero\n",
      "¡Hola Maria y todos los seguidoros del blog! (¡Hola Maria y todos los seguidores del blog!)\n",
      "Acabo de leer tu entrada de blog y me ha gustado.  Fue muy interesante.  en este momento hay algunas tendencias de moda. (En este momento hay algunas tendencias de moda.) Por ejemplo: las cintas y la ropa holgada. Me gustan las cintas, porque es muy bonita. (Me gustan las cintas, porque son muy bonitas.) Mejora cada atuendo. Me gusta la ropa holgada, porque me siento cómodo. Odio los jeans ajustados, porque es feo. (Odio los jeans ajustados, porque son feos.)\n",
      "\n",
      "Las redes sociales afectan mucho a la moda. Por ejemplo: TikTok e Instagram. Muchos influencers influyen a los espectadores cuando usan una prenda hermosa y quieren comprarla de nuevo. (Muchos influencers influyen en los espectadores cuando usan una prenda hermosa y quieren comprarla de nuevo.) Esto crea moda rápida. \n",
      "\n",
      "En mi vida la moda rápida y la mode sostenible es muy importante. (En mi vida, la moda rápida y la moda sostenible son muy importantes.) Mucha personas compran la moda rápida, porque quieren seguir las nuevas tendencias. (Muchas personas compran la moda rápida, porque quieren seguir las nuevas tendencias.) Pero es malo para el medio ambiente. La moda rápida tiene una mala calidad. Intento hacer compras más sostenibles para el futuro.\n",
      "\n",
      "Un saludo,\n",
      "Sofia\n",
      "\n",
      "Feedback: Dein Text ist gut verständlich und du hast viele wichtige Punkte angesprochen. Es gibt jedoch einige grammatikalische Fehler, die du verbessern solltest.\n",
      "An diesem Grammatikthema/diesen Grammatikthemen solltest du noch arbeiten: Artikel und Pluralformen, Satzanfänge, Präpositionen und Konjunktionen.\n",
      "Beurteilungsraster A2:\n",
      "- Erfüllung der Aufgabenstellung (EA): Die Aufgabenstellung wurde größtenteils erfüllt.\n",
      "- Aufbau und Layout (AL): Der Text ist gut strukturiert und leicht zu lesen.\n",
      "- Spektrum Sprachlicher Mittel (SSM): Es wurden eine Vielzahl von sprachlichen Mitteln verwendet.\n",
      "- Sprachrichtigkeit (SR): Es gibt einige grammatikalische Fehler, die jedoch das Verständnis nicht beeinträchtigen.\n"
     ]
    }
   ],
   "source": [
    "#response = correct_document('./data/correo electronico.docx')\n",
    "response = correct_document('./data/SP blog comment.docx')\n",
    "print(response)"
   ]
  },
  {
   "cell_type": "markdown",
   "id": "5e4a3c40-a5cb-4936-b7e8-b5f21c66ec88",
   "metadata": {},
   "source": [
    "## Correction of text + word-document \n",
    "* Please run this code to start the pipeline\n",
    "* After that copy and paste the path of the document you would like to correct\n",
    "* It will be saved to `.corrected_texts` -folder\n",
    "### Install the package if not already available"
   ]
  },
  {
   "cell_type": "code",
   "execution_count": 46,
   "id": "94381f6a-e4a0-4bf2-aee6-c0d30d66d21f",
   "metadata": {},
   "outputs": [
    {
     "name": "stdout",
     "output_type": "stream",
     "text": [
      "Requirement already satisfied: python-docx in c:\\users\\faufr\\anaconda3\\lib\\site-packages (1.1.2)\n",
      "Requirement already satisfied: typing-extensions>=4.9.0 in c:\\users\\faufr\\anaconda3\\lib\\site-packages (from python-docx) (4.12.2)\n",
      "Requirement already satisfied: lxml>=3.1.0 in c:\\users\\faufr\\anaconda3\\lib\\site-packages (from python-docx) (4.8.0)\n"
     ]
    }
   ],
   "source": [
    "!pip install python-docx"
   ]
  },
  {
   "cell_type": "code",
   "execution_count": 28,
   "id": "eab9d0be-cf12-4cb7-af87-f440d76e0faf",
   "metadata": {},
   "outputs": [
    {
     "name": "stdout",
     "output_type": "stream",
     "text": [
      "Correction saved to:\n",
      "- corrected_texts\\correo electronico_corrected_20250130_200943.docx\n",
      "\n",
      "\n",
      "Correction Result:\n",
      "\"Correo electronico \n",
      "\n",
      "De: adrian123@gmail.com\n",
      "Para: padres123@gmail.com\n",
      "Fecha: 12 de novembre de 2024 (Fecha: 12 de noviembre de 2024)\n",
      "Asunto: me ciudad favorita (Asunto: mi ciudad favorita)\n",
      "\n",
      "Queridos padres,\n",
      "\n",
      "Estoy en mi ciuadad favorita, Barcelona. (Estoy en mi ciudad favorita, Barcelona.) La ciudad es muy bonita y hay mucha gente viviendo aquí. Además, hace mucho calor aquí en Barcelona.\n",
      "\n",
      "Hoy he visto la ciudad. Para el almuerzo probe tapas en un pequeno restaurante local. (Para el almuerzo probé tapas en un pequeño restaurante local.) ! Fue delicioso! (¡Fue delicioso!) Me gusta de la playa y comer. (Me gusta la playa y comer.) Luego pasee por el parque y pasee por la playa de la noche. (Luego paseé por el parque y por la playa en la noche.) Mas tarde me relaje en la playa de la Barcelona. (Más tarde me relajé en la playa de Barcelona.)\n",
      "\n",
      "Manana tengo planes emocionantes. (Mañana tengo planes emocionantes.) Quiero visitar muchos mercados y restaurantes para probar mas comida tipica. (Quiero visitar muchos mercados y restaurantes para probar más comida típica.) Tambien espero encontar algunos Souvenirs unicos para llevar a casa. (También espero encontrar algunos souvenirs únicos para llevar a casa.)\n",
      "\n",
      "Estoy disfrutando mucho de mi tiempo aqui y no puedo esperar para contarles mas. (Estoy disfrutando mucho de mi tiempo aquí y no puedo esperar para contarles más.)\n",
      "\n",
      "Saludos,\n",
      "Adrian\"\n",
      "\n",
      "Feedback: Du hast einen guten Text geschrieben, aber es gibt einige Rechtschreib- und Grammatikfehler. Achte auf die korrekte Schreibweise von Wörtern und die korrekte Verwendung von Artikeln und Präpositionen.\n",
      "\n",
      "An diesem Grammatikthema/diesen Grammatikthemen solltest du noch arbeiten: Rechtschreibung, Verwendung von Artikeln und Präpositionen, korrekte Platzierung von Akzenten.\n",
      "\n",
      "Diesem Niveau würde der Text entstprechen: A2\n",
      "\n",
      "Kriterien des Beurteilungsrasters:\n",
      "- Erfüllung der Aufgabenstellung (EA): Die Aufgabenstellung wurde größtenteils erfüllt, es gab jedoch einige Fehler.\n",
      "- Aufbau und Layout (AL): Der Text ist gut strukturiert und folgt dem vorgegebenen Layout.\n",
      "- Spektrum Sprachlicher Mittel (SSM): Der Text zeigt eine gute Bandbreite an Sprachmitteln, es gibt jedoch einige Fehler.\n",
      "- Sprachrichtigkeit (SR): Es gibt einige Rechtschreib- und Grammatikfehler, die die Verständlichkeit beeinträchtigen.\n"
     ]
    }
   ],
   "source": [
    "from docx import Document\n",
    "from llama_index.core import StorageContext, load_index_from_storage, Settings\n",
    "from llama_index.llms.openai import OpenAI\n",
    "import openai\n",
    "from dotenv import load_dotenv\n",
    "import os\n",
    "from datetime import datetime\n",
    "from docx.shared import Pt\n",
    "from docx.enum.text import WD_PARAGRAPH_ALIGNMENT\n",
    "import pathlib\n",
    "\n",
    "def correct_document(file_path):\n",
    "    # Setup\n",
    "    load_dotenv()\n",
    "    openai.api_key = os.getenv('OPENAI_API_KEY')\n",
    "\n",
    "    # Define system prompt\n",
    "    system_prompt = \"\"\"You are a Spanish language teacher with expertise in CEFR levels A2-B1. \n",
    "    Your role is to:\n",
    "    1. Identify and correct Spanish language errors\n",
    "    2. Provide constructive feedback in German\n",
    "    3. Evaluate texts according to CEFR standards\n",
    "    4. Maintain a professional and educational tone\n",
    "    5. Focus on common grammatical structures at A2-B1 level\"\"\"\n",
    "\n",
    "    # Initialize OpenAI with system prompt\n",
    "    Settings.llm = OpenAI( model=\"gpt-4\", temperature=0.3,\n",
    "    system_prompt=system_prompt)\n",
    "        \n",
    "    # Create output directory if it doesn't exist\n",
    "    output_dir = pathlib.Path('./corrected_texts')\n",
    "    output_dir.mkdir(exist_ok=True)\n",
    "    \n",
    "    # Read document\n",
    "    doc = Document(file_path)\n",
    "    text = \"\\n\".join(paragraph.text for paragraph in doc.paragraphs)\n",
    "    \n",
    "    # Load index and create query engine\n",
    "    index = load_index_from_storage(StorageContext.from_defaults(persist_dir=\"./RAG_index\"))\n",
    "    \n",
    "    # Process correction\n",
    "    correction_prompt = f\"\"\"\n",
    "    Correct the mistakes of the provided text. The text was written by a student. The student should have a language level A2-B1 according\n",
    "    to Common European Framework of Reference for Languages: Learning, Teaching, Assessment CEFRL. Correct the mistakes and provide the adequate solutions.\n",
    "    Don't change the original input text. Only use this structure to correct the text:\n",
    "\n",
    "    Example 1: \"Yo te llama José.\"\n",
    "    Corrected example 1: \"Yo te llama José. (Yo me llamo José.)\"\n",
    "    Example 2: \"Las coches es caros.\"\n",
    "    Corrected example 2: \"Las coches es caros. (Los coches son caros.)\"\n",
    "    Example 3: \"Hola María, yo te llama José.\"\n",
    "    Corrected example 3: \"Hola María, yo te llama José. (Hola María, me llamo José.) Me gusta los caballo. (Me gustan los caballos.)\"\n",
    "\n",
    "    Please correct this text and provide one sentence objective and simple with feedback and which grammar topics the student should improve.\n",
    "    The feedback and explanations have to be in german.\n",
    "    \n",
    "    Feedback structure:\n",
    "    \"Feedback*: [insert feedback sentence here]\n",
    "    \n",
    "    An diesem Grammatikthema/diesen Grammatikthemen solltest du noch arbeiten: [insert grammar topics here]\n",
    "    \\n\n",
    "    Diesem Niveau würde der Text entstprechen [use your knowledge to chose a level according to Common European Framework of Reference for Languages: Learning, Teaching, Assessment CEFRL]\n",
    "    \\n\n",
    "    Kriterien des Beurteilungsrasters:\n",
    "    - Erfüllung der Aufgabenstellung (EA): [insert chosen descriptions]\n",
    "    - Aufbau und Layout (AL): [insert chosen descriptions]\n",
    "    - Spektrum Sprachlicher Mittel (SSM): [insert chosen descriptions]\n",
    "    - Sprachrichtigkeit (SR): [insert chosen descriptions]\"\n",
    "\n",
    "    Text to correct: {text}\n",
    "    \"\"\"\n",
    "    \n",
    "    response = index.as_query_engine().query(correction_prompt)\n",
    "    \n",
    "    # Generate timestamp for unique filenames\n",
    "    timestamp = datetime.now().strftime(\"%Y%m%d_%H%M%S\")\n",
    "    original_filename = pathlib.Path(file_path).stem\n",
    "    \n",
    "    # Create Word document\n",
    "    doc_output = Document()\n",
    "    \n",
    "    # Add title\n",
    "    title = doc_output.add_heading('Texto corregido', 0)\n",
    "    title.alignment = WD_PARAGRAPH_ALIGNMENT.CENTER\n",
    "    \n",
    "    # Add correction and feedback\n",
    "    doc_output.add_heading('Corrección y feedback:', level=1)\n",
    "    doc_output.add_paragraph(str(response))\n",
    "    \n",
    "    # Save as Word document\n",
    "    docx_path = output_dir / f'{original_filename}_corrected_{timestamp}.docx'\n",
    "    doc_output.save(docx_path)\n",
    "    \n",
    "    print(f\"Correction saved to:\\n- {docx_path}\\n\")\n",
    "    return response\n",
    "\n",
    "# Usage\n",
    "if __name__ == \"__main__\":\n",
    "    response = correct_document('./data/correo electronico.docx')\n",
    "    print(\"\\nCorrection Result:\")\n",
    "    print(response)\n"
   ]
  },
  {
   "cell_type": "markdown",
   "id": "2f6db0a8-75bc-4bbc-8c6e-3002c88293b7",
   "metadata": {},
   "source": [
    "## SUPER FAST VERSION\n",
    "* First you have to run the RAG-pipeline cell once.\n",
    "* Change the path to correct a different text.\n",
    "* It will be saved to `.corrected_texts` -folder"
   ]
  },
  {
   "cell_type": "code",
   "execution_count": 30,
   "id": "1b1d24fb-6bae-4e28-8154-36d13b000327",
   "metadata": {},
   "outputs": [
    {
     "name": "stdout",
     "output_type": "stream",
     "text": [
      "Correction saved to:\n",
      "- corrected_texts\\correo electronico_corrected_20250126_141934.docx\n",
      "\n"
     ]
    }
   ],
   "source": [
    "response = correct_document('./data/correo electronico.docx')"
   ]
  },
  {
   "cell_type": "code",
   "execution_count": 35,
   "id": "adc4bf78-faef-4c6c-87a1-475a8852376d",
   "metadata": {},
   "outputs": [
    {
     "name": "stdout",
     "output_type": "stream",
     "text": [
      "Correction saved to:\n",
      "- corrected_texts\\SP blog comment_corrected_20250126_142548.docx\n",
      "\n"
     ]
    }
   ],
   "source": [
    "response = correct_document('./data/SP blog comment.docx')"
   ]
  },
  {
   "cell_type": "markdown",
   "id": "c1abd5e2-630d-4dc1-a852-9ea286e6604b",
   "metadata": {},
   "source": [
    "## Creating exercises"
   ]
  },
  {
   "cell_type": "code",
   "execution_count": null,
   "id": "6d00fa78-755e-4def-a523-d7ac2eee04fe",
   "metadata": {},
   "outputs": [],
   "source": [
    "#Add exercises to docx-file --> mistakes of the student\n"
   ]
  },
  {
   "cell_type": "code",
   "execution_count": 30,
   "id": "bb8f7631-fa53-4cdd-a53c-f9d28bffef37",
   "metadata": {},
   "outputs": [
    {
     "name": "stdout",
     "output_type": "stream",
     "text": [
      "EJERCICIOS PERSONALIZADOS:\n",
      "Tus errores: Uso incorrecto de preposiciones, falta de tildes, errores de concordancia y errores de ortografía.\n",
      "\n",
      "Ejercicio 1: Completa las siguientes oraciones con la preposición correcta.\n",
      "1. Estoy ____ mi ciudad favorita.\n",
      "2. Paseé ____ el parque.\n",
      "3. Me relajé ____ la playa.\n",
      "\n",
      "Ejercicio 2: Corrige los errores de ortografía y tildes en las siguientes palabras.\n",
      "1. ciuadad\n",
      "2. probe\n",
      "3. pequeno\n",
      "4. delicioso\n",
      "5. Souvenirs\n",
      "\n",
      "SOLUCIONES:\n",
      "\n",
      "Soluciones del ejercicio 1: \n",
      "1. Estoy en mi ciudad favorita.\n",
      "2. Paseé por el parque.\n",
      "3. Me relajé en la playa.\n",
      "\n",
      "Soluciones del ejercicio 2: \n",
      "1. ciudad\n",
      "2. probé\n",
      "3. pequeño\n",
      "4. delicioso\n",
      "5. souvenirs\n"
     ]
    }
   ],
   "source": [
    "from docx import Document\n",
    "from llama_index.core import StorageContext, load_index_from_storage, Settings\n",
    "from llama_index.llms.openai import OpenAI\n",
    "import openai\n",
    "from dotenv import load_dotenv\n",
    "import os\n",
    "\n",
    "def correct_document(file_path):\n",
    "    # Setup\n",
    "    load_dotenv()\n",
    "    openai.api_key = os.getenv('OPENAI_API_KEY')\n",
    "    \n",
    "    # Define system prompt\n",
    "    system_prompt = \"\"\"You are an expert language teacher specialized in Spanish with expertise in CEFR levels A2-B1. \n",
    "    Your task is to correct Spanish texts and provide creative and useful tasks for language learners. \n",
    "    \"\"\"\n",
    "    \n",
    "    # Initialize OpenAI with system prompt\n",
    "    Settings.llm = OpenAI(\n",
    "        model=\"gpt-4\", \n",
    "        temperature=0.3,\n",
    "        system_prompt=system_prompt\n",
    "    )\n",
    "    \n",
    "    # Read document\n",
    "    doc = Document(file_path)\n",
    "    text = \"\\n\".join(paragraph.text for paragraph in doc.paragraphs)\n",
    "    \n",
    "    # Load index and create query engine\n",
    "    index = load_index_from_storage(StorageContext.from_defaults(persist_dir=\"./RAG_index\"))\n",
    "    \n",
    "    # Process correction\n",
    "    correction_prompt = f\"\"\"\n",
    "    You will receive a Spanish text written by a student and must:\n",
    "    Identify all grammar, spelling, and usage errors in the text.\n",
    "    Create two concise, targeted grammar exercises based on the errors found. \n",
    "    These exercises should help the writer practice the specific grammatical points that were problematic in the original text.\n",
    "    \n",
    "    Be sure to: \n",
    "    1.) Keep your explanations brief but clear. \n",
    "    2.) Present the exercises in a way that they can be used for independent practice (e.g., fill-in-the-blanks, sentence rewriting, short multiple-choice, etc.).\n",
    "    3.) Write your entire response in Spanish, except for any special instructions or formatting. \n",
    "    4.) If explanations or special instructions are needed use german language. \n",
    "\n",
    "    Structure of your output:\n",
    "    \" \n",
    "    EJERCICIOS PERSONALIZADOS:\n",
    "    Tus errores: [insert the grammar topics in spanish where you detected errors]\n",
    "    Ejercicio 1: [insert exercise 1]\n",
    "    Ejercicio 2: [insert exercise 2]\n",
    "\n",
    "    SOLUCIONES:\n",
    "\n",
    "    Soluciones del ejercicio 1: [insert only correct answers of exercise 1]\n",
    "    Soluciones del ejercicio 2: [insert only correct answers of exercise 2]\n",
    "    \"\n",
    "\n",
    "    Text to correct: {text}\n",
    "    \"\"\"\n",
    "    \n",
    "    return index.as_query_engine().query(correction_prompt)\n",
    "\n",
    "# Usage\n",
    "print(correct_document('./data/correo electronico.docx'))"
   ]
  },
  {
   "cell_type": "code",
   "execution_count": null,
   "id": "24895a89-991f-4a22-afef-422b6e1ae61a",
   "metadata": {},
   "outputs": [],
   "source": []
  }
 ],
 "metadata": {
  "kernelspec": {
   "display_name": "Python [conda env:base] *",
   "language": "python",
   "name": "conda-base-py"
  },
  "language_info": {
   "codemirror_mode": {
    "name": "ipython",
    "version": 3
   },
   "file_extension": ".py",
   "mimetype": "text/x-python",
   "name": "python",
   "nbconvert_exporter": "python",
   "pygments_lexer": "ipython3",
   "version": "3.9.12"
  }
 },
 "nbformat": 4,
 "nbformat_minor": 5
}
